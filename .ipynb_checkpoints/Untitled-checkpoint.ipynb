{
 "cells": [
  {
   "cell_type": "code",
   "execution_count": 3,
   "id": "77f0201e-a435-49aa-9911-29ffa4ac3ba8",
   "metadata": {},
   "outputs": [
    {
     "name": "stdout",
     "output_type": "stream",
     "text": [
      "<csv.DictReader object at 0x00000256BCEB31D0>\n"
     ]
    }
   ],
   "source": [
    "import csv\n",
    "my_file = open('C:/Users/Leydi/Documents/Python_scripts/iris.csv', 'r')\n",
    "reader = csv.DictReader(my_file)\n",
    "print(reader)\n"
   ]
  },
  {
   "cell_type": "code",
   "execution_count": 8,
   "id": "2c1fcba4-7be6-44b5-aa2e-dd1d920d973b",
   "metadata": {},
   "outputs": [
    {
     "ename": "IndentationError",
     "evalue": "expected an indented block after 'with' statement on line 2 (3499292585.py, line 3)",
     "output_type": "error",
     "traceback": [
      "\u001b[1;36m  Cell \u001b[1;32mIn[8], line 3\u001b[1;36m\u001b[0m\n\u001b[1;33m    reader = csv.DictReader(csvfile)\u001b[0m\n\u001b[1;37m    ^\u001b[0m\n\u001b[1;31mIndentationError\u001b[0m\u001b[1;31m:\u001b[0m expected an indented block after 'with' statement on line 2\n"
     ]
    }
   ],
   "source": [
    "import csvprint(reader.fieldnames)\n",
    "with open('C:/Users/Leydi/Documents/Python_scripts/iris.csv', 'r') as csvfile:\n",
    "reader = csv.DictReader(csvfile)"
   ]
  },
  {
   "cell_type": "code",
   "execution_count": 9,
   "id": "fee1a2ee-2c20-475d-bcd1-d6ba0b35050b",
   "metadata": {},
   "outputs": [
    {
     "name": "stdout",
     "output_type": "stream",
     "text": [
      "['sepal_length', 'sepal_width', 'petal_length', 'petal_width', 'species']\n"
     ]
    }
   ],
   "source": [
    "print(reader.fieldnames)"
   ]
  },
  {
   "cell_type": "code",
   "execution_count": 10,
   "id": "a42086b0-90b2-41f1-a1f8-f6a3d3b343d7",
   "metadata": {},
   "outputs": [
    {
     "name": "stdout",
     "output_type": "stream",
     "text": [
      "<csv.DictReader object at 0x00000256BCEB3F80>\n"
     ]
    }
   ],
   "source": [
    "my_file = open('C:/Users/Leydi/Documents/PSIG/albumlist.csv', 'r')\n",
    "reader = csv.DictReader(my_file)\n",
    "print(reader)"
   ]
  },
  {
   "cell_type": "code",
   "execution_count": 12,
   "id": "c66310f8-d6d5-4f60-9596-828739ce314d",
   "metadata": {},
   "outputs": [
    {
     "name": "stdout",
     "output_type": "stream",
     "text": [
      "{'Number': '2', 'Year': '1966', 'Album': 'Pet Sounds', 'Artist': 'The Beach Boys', 'Genre': 'Rock', 'Subgenre': 'Pop Rock, Psychedelic Rock'}\n",
      "{'Number': '3', 'Year': '1966', 'Album': 'Revolver', 'Artist': 'The Beatles', 'Genre': 'Rock', 'Subgenre': 'Psychedelic Rock, Pop Rock'}\n",
      "{'Number': '4', 'Year': '1965', 'Album': 'Highway 61 Revisited', 'Artist': 'Bob Dylan', 'Genre': 'Rock', 'Subgenre': 'Folk Rock, Blues Rock'}\n",
      "{'Number': '5', 'Year': '1965', 'Album': 'Rubber Soul', 'Artist': 'The Beatles', 'Genre': 'Rock, Pop', 'Subgenre': 'Pop Rock'}\n",
      "{'Number': '6', 'Year': '1971', 'Album': \"What's Going On\", 'Artist': 'Marvin Gaye', 'Genre': 'Funk / Soul', 'Subgenre': 'Soul'}\n",
      "{'Number': '7', 'Year': '1972', 'Album': 'Exile on Main St.', 'Artist': 'The Rolling Stones', 'Genre': 'Rock', 'Subgenre': 'Blues Rock, Rock & Roll, Classic Rock'}\n",
      "{'Number': '8', 'Year': '1979', 'Album': 'London Calling', 'Artist': 'The Clash', 'Genre': 'Rock', 'Subgenre': 'Punk, New Wave'}\n",
      "{'Number': '9', 'Year': '1966', 'Album': 'Blonde on Blonde', 'Artist': 'Bob Dylan', 'Genre': 'Rock, Blues', 'Subgenre': 'Folk Rock, Rhythm & Blues'}\n",
      "{'Number': '10', 'Year': '1968', 'Album': 'The Beatles (\"The White Album\")', 'Artist': 'The Beatles', 'Genre': 'Rock', 'Subgenre': 'Rock & Roll, Pop Rock, Psychedelic Rock, Experimental'}\n",
      "{'Number': '11', 'Year': '1976', 'Album': 'The Sun Sessions', 'Artist': 'Elvis Presley', 'Genre': 'Rock', 'Subgenre': 'Rock & Roll'}\n",
      "{'Number': '12', 'Year': '1959', 'Album': 'Kind of Blue', 'Artist': 'Miles Davis', 'Genre': 'Jazz', 'Subgenre': 'Modal'}\n",
      "{'Number': '13', 'Year': '1967', 'Album': 'The Velvet Underground & Nico', 'Artist': 'The Velvet Underground', 'Genre': 'Rock', 'Subgenre': 'Garage Rock, Art Rock, Experimental'}\n",
      "{'Number': '14', 'Year': '1969', 'Album': 'Abbey Road', 'Artist': 'The Beatles', 'Genre': 'Rock', 'Subgenre': 'Psychedelic Rock, Classic Rock, Pop Rock'}\n",
      "{'Number': '15', 'Year': '1967', 'Album': 'Are You Experienced', 'Artist': 'The Jimi Hendrix Experience', 'Genre': 'Rock, Blues', 'Subgenre': 'Blues Rock, Psychedelic Rock'}\n",
      "{'Number': '16', 'Year': '1975', 'Album': 'Blood on the Tracks', 'Artist': 'Bob Dylan', 'Genre': 'Rock', 'Subgenre': 'Folk Rock, Acoustic, Ballad'}\n",
      "{'Number': '17', 'Year': '1991', 'Album': 'Nevermind', 'Artist': 'Nirvana', 'Genre': 'Rock', 'Subgenre': 'Alternative Rock, Grunge'}\n",
      "{'Number': '18', 'Year': '1975', 'Album': 'Born to Run', 'Artist': 'Bruce Springsteen', 'Genre': 'Rock', 'Subgenre': 'Pop Rock'}\n",
      "{'Number': '19', 'Year': '1968', 'Album': 'Astral Weeks', 'Artist': 'Van Morrison', 'Genre': 'Jazz, Rock, Blues, Folk, World, & Country', 'Subgenre': 'Acoustic, Classic Rock, Free Improvisation'}\n",
      "{'Number': '20', 'Year': '1982', 'Album': 'Thriller', 'Artist': 'Michael Jackson', 'Genre': 'Funk / Soul, Pop', 'Subgenre': 'Disco'}\n",
      "{'Number': '21', 'Year': '1982', 'Album': 'The Great Twenty_Eight', 'Artist': 'Chuck Berry', 'Genre': 'Rock', 'Subgenre': 'Rock & Roll'}\n",
      "{'Number': '22', 'Year': '1990', 'Album': 'The Complete Recordings', 'Artist': 'Robert Johnson', 'Genre': 'Blues', 'Subgenre': 'Delta Blues'}\n",
      "{'Number': '23', 'Year': '1970', 'Album': 'John Lennon/Plastic Ono Band', 'Artist': 'John Lennon / Plastic Ono Band', 'Genre': 'Rock', 'Subgenre': 'Pop Rock'}\n",
      "{'Number': '24', 'Year': '1973', 'Album': 'Innervisions', 'Artist': 'Stevie Wonder', 'Genre': 'Funk / Soul', 'Subgenre': 'Soul'}\n",
      "{'Number': '25', 'Year': '1963', 'Album': 'Live at the Apollo, 1962', 'Artist': 'James Brown', 'Genre': 'Funk / Soul', 'Subgenre': 'Rhythm & Blues, Soul'}\n",
      "{'Number': '26', 'Year': '1977', 'Album': 'Rumours', 'Artist': 'Fleetwood Mac', 'Genre': 'Rock', 'Subgenre': 'Pop Rock'}\n",
      "{'Number': '27', 'Year': '1987', 'Album': 'The Joshua Tree', 'Artist': 'U2', 'Genre': 'Rock', 'Subgenre': 'Alternative Rock, Pop Rock'}\n",
      "{'Number': '28', 'Year': '1971', 'Album': \"Who's Next\", 'Artist': 'The Who', 'Genre': 'Rock', 'Subgenre': 'Hard Rock, Mod, Prog Rock, Psychedelic Rock'}\n",
      "{'Number': '29', 'Year': '1969', 'Album': 'Led Zeppelin', 'Artist': 'Led Zeppelin', 'Genre': 'Rock', 'Subgenre': 'Blues Rock, Hard Rock'}\n",
      "{'Number': '30', 'Year': '1971', 'Album': 'Blue', 'Artist': 'Joni Mitchell', 'Genre': 'Pop', 'Subgenre': 'Acoustic, Ballad, Folk'}\n",
      "{'Number': '31', 'Year': '1965', 'Album': 'Bringing It All Back Home', 'Artist': 'Bob Dylan', 'Genre': 'Rock, Folk, World, & Country', 'Subgenre': 'Folk Rock, Folk'}\n",
      "{'Number': '32', 'Year': '1969', 'Album': 'Let It Bleed', 'Artist': 'The Rolling Stones', 'Genre': 'Rock', 'Subgenre': 'Blues Rock, Hard Rock'}\n",
      "{'Number': '33', 'Year': '1976', 'Album': 'Ramones', 'Artist': 'Ramones', 'Genre': 'Rock', 'Subgenre': 'Rock & Roll, Punk'}\n",
      "{'Number': '34', 'Year': '1968', 'Album': 'Music From Big Pink', 'Artist': 'The Band', 'Genre': 'Rock', 'Subgenre': 'Folk Rock, Acoustic, Blues Rock'}\n",
      "{'Number': '35', 'Year': '1972', 'Album': 'The Rise and Fall of Ziggy Stardust and the Spiders From Mars', 'Artist': 'David Bowie', 'Genre': 'Rock', 'Subgenre': 'Classic Rock, Glam'}\n",
      "{'Number': '36', 'Year': '1971', 'Album': 'Tapestry', 'Artist': 'Carole King', 'Genre': 'Rock, Pop', 'Subgenre': 'Folk Rock, Soft Rock'}\n",
      "{'Number': '37', 'Year': '1976', 'Album': 'Hotel California', 'Artist': 'Eagles', 'Genre': 'Rock', 'Subgenre': 'Classic Rock'}\n",
      "{'Number': '38', 'Year': '2001', 'Album': 'The Anthology', 'Artist': 'Muddy Waters', 'Genre': 'Folk, World, & Country', 'Subgenre': 'Folk'}\n",
      "{'Number': '39', 'Year': '1963', 'Album': 'Please Please Me', 'Artist': 'The Beatles', 'Genre': 'Rock', 'Subgenre': 'Beat, Rock & Roll'}\n",
      "{'Number': '40', 'Year': '1967', 'Album': 'Forever Changes', 'Artist': 'Love', 'Genre': 'Rock', 'Subgenre': 'Folk Rock, Psychedelic Rock'}\n",
      "{'Number': '41', 'Year': '1977', 'Album': \"Never Mind the Bollocks Here's the Sex Pistols\", 'Artist': 'Sex Pistols', 'Genre': 'Rock', 'Subgenre': 'Punk'}\n",
      "{'Number': '42', 'Year': '1967', 'Album': 'The Doors', 'Artist': 'The Doors', 'Genre': 'Rock', 'Subgenre': 'Psychedelic Rock'}\n",
      "{'Number': '43', 'Year': '1973', 'Album': 'The Dark Side of the Moon', 'Artist': 'Pink Floyd', 'Genre': 'Rock', 'Subgenre': 'Prog Rock'}\n",
      "{'Number': '44', 'Year': '1975', 'Album': 'Horses', 'Artist': 'Patti Smith', 'Genre': 'Rock', 'Subgenre': 'Art Rock'}\n",
      "{'Number': '45', 'Year': '1969', 'Album': 'The Band (\"The Brown Album\")', 'Artist': 'The Band', 'Genre': 'Classical, Stage & Screen', 'Subgenre': 'Soundtrack, Modern Classical, Contemporary, Score'}\n",
      "{'Number': '46', 'Year': '1984', 'Album': 'Legend: The Best of Bob Marley and The Wailers', 'Artist': 'Bob Marley & The Wailers', 'Genre': 'Reggae', 'Subgenre': 'Reggae, Roots Reggae'}\n",
      "{'Number': '47', 'Year': '1965', 'Album': 'A Love Supreme', 'Artist': 'John Coltrane', 'Genre': 'Jazz', 'Subgenre': 'Free Jazz, Hard Bop, Modal'}\n",
      "{'Number': '48', 'Year': '1988', 'Album': 'It Takes a Nation of Millions to Hold Us Back', 'Artist': 'Public Enemy', 'Genre': 'Hip Hop', 'Subgenre': 'Conscious'}\n",
      "{'Number': '49', 'Year': '1971', 'Album': 'At Fillmore East', 'Artist': 'The Allman Brothers Band', 'Genre': 'Rock, Blues', 'Subgenre': 'Blues Rock'}\n",
      "{'Number': '50', 'Year': '1957', 'Album': \"Here's Little Richard\", 'Artist': 'Little Richard', 'Genre': 'Rock, Blues', 'Subgenre': 'Rock & Roll, Rhythm & Blues'}\n",
      "{'Number': '51', 'Year': '1970', 'Album': 'Bridge Over Troubled Water', 'Artist': 'Simon & Garfunkel', 'Genre': 'Rock', 'Subgenre': 'Folk Rock, Classic Rock'}\n",
      "{'Number': '52', 'Year': '1975', 'Album': 'Greatest Hits', 'Artist': 'Al Green', 'Genre': 'Funk / Soul', 'Subgenre': 'Soul'}\n",
      "{'Number': '53', 'Year': '1964', 'Album': 'Meet The Beatles!', 'Artist': 'The Beatles', 'Genre': 'Rock', 'Subgenre': 'Beat, Rock & Roll'}\n",
      "{'Number': '54', 'Year': '1991', 'Album': 'The Birth of Soul', 'Artist': 'Ray Charles', 'Genre': 'Jazz, Funk / Soul', 'Subgenre': 'Rhythm & Blues, Big Band, Soul, Soul-Jazz'}\n",
      "{'Number': '55', 'Year': '1968', 'Album': 'Electric Ladyland', 'Artist': 'The Jimi Hendrix Experience', 'Genre': 'Rock, Blues', 'Subgenre': 'Electric Blues, Psychedelic Rock'}\n",
      "{'Number': '56', 'Year': '1956', 'Album': 'Elvis Presley', 'Artist': 'Elvis Presley', 'Genre': 'Rock', 'Subgenre': 'Rock & Roll, Rockabilly'}\n",
      "{'Number': '57', 'Year': '1976', 'Album': 'Songs in the Key of Life', 'Artist': 'Stevie Wonder', 'Genre': 'Funk / Soul', 'Subgenre': 'Soul, Disco'}\n",
      "{'Number': '58', 'Year': '1968', 'Album': 'Beggars Banquet', 'Artist': 'The Rolling Stones', 'Genre': 'Rock, Funk / Soul, Pop', 'Subgenre': 'Blues Rock, Southern Rock, Classic Rock'}\n",
      "{'Number': '59', 'Year': '1976', 'Album': 'Chronicle: The 20 Greatest Hits', 'Artist': 'Creedence Clearwater Revival', 'Genre': 'Rock', 'Subgenre': 'None'}\n",
      "{'Number': '60', 'Year': '1969', 'Album': 'Trout Mask Replica', 'Artist': 'Captain Beefheart & His Magic Band', 'Genre': 'Rock, Blues', 'Subgenre': 'Dialogue, Field Recording, Avantgarde, Electric Blues, Psychedelic Rock, Experimental'}\n",
      "{'Number': '61', 'Year': '1970', 'Album': 'Greatest Hits', 'Artist': 'Sly & The Family Stone', 'Genre': 'Funk / Soul', 'Subgenre': 'Rhythm & Blues, Funk'}\n",
      "{'Number': '62', 'Year': '1987', 'Album': 'Appetite for Destruction', 'Artist': \"Guns N' Roses\", 'Genre': 'Rock', 'Subgenre': 'Hard Rock, Heavy Metal'}\n",
      "{'Number': '63', 'Year': '1991', 'Album': 'Achtung Baby', 'Artist': 'U2', 'Genre': 'Electronic, Rock', 'Subgenre': 'Pop Rock, Synth-pop, Alternative Rock, Arena Rock'}\n",
      "{'Number': '64', 'Year': '1971', 'Album': 'Sticky Fingers', 'Artist': 'The Rolling Stones', 'Genre': 'Rock', 'Subgenre': 'Classic Rock'}\n",
      "{'Number': '65', 'Year': '1991', 'Album': 'Back to Mono (1958-1969)', 'Artist': 'Phil Spector', 'Genre': 'Rock, Funk / Soul, Pop', 'Subgenre': 'Doo Wop, Pop Rock, Ballad, Rhythm & Blues'}\n",
      "{'Number': '66', 'Year': '1970', 'Album': 'Moondance', 'Artist': 'Van Morrison', 'Genre': 'Jazz, Rock, Funk / Soul, Folk, World, & Country', 'Subgenre': 'Folk Rock, Rhythm & Blues, Classic Rock, Contemporary Jazz'}\n",
      "{'Number': '67', 'Year': '2000', 'Album': 'Kid A', 'Artist': 'Radiohead', 'Genre': 'Electronic, Rock', 'Subgenre': 'Alternative Rock, IDM, Experimental'}\n",
      "{'Number': '68', 'Year': '1979', 'Album': 'Off the Wall', 'Artist': 'Michael Jackson', 'Genre': 'Funk / Soul, Pop', 'Subgenre': 'Disco, Soul, Ballad'}\n",
      "{'Number': '69', 'Year': '1971', 'Album': '[Led Zeppelin IV]', 'Artist': 'Led Zeppelin', 'Genre': 'Rock', 'Subgenre': 'Hard Rock, Classic Rock, Blues Rock'}\n",
      "{'Number': '70', 'Year': '1977', 'Album': 'The Stranger', 'Artist': 'Billy Joel', 'Genre': 'Rock', 'Subgenre': 'Pop Rock'}\n",
      "{'Number': '71', 'Year': '1986', 'Album': 'Graceland', 'Artist': 'Paul Simon', 'Genre': 'Jazz, Rock, Funk / Soul, Pop, Folk, World, & Country', 'Subgenre': 'Folk Rock, Pop Rock, African, Afrobeat, Zydeco, Funk, Rhythm & Blues'}\n",
      "{'Number': '72', 'Year': '1972', 'Album': 'Superfly', 'Artist': 'Curtis Mayfield', 'Genre': 'Funk / Soul, Stage & Screen', 'Subgenre': 'Soundtrack, Soul'}\n",
      "{'Number': '73', 'Year': '1975', 'Album': 'Physical Graffiti', 'Artist': 'Led Zeppelin', 'Genre': 'Rock', 'Subgenre': 'Classic Rock'}\n",
      "{'Number': '74', 'Year': '1970', 'Album': 'After the Gold Rush', 'Artist': 'Neil Young', 'Genre': 'Rock', 'Subgenre': 'Rock & Roll, Country Rock'}\n",
      "{'Number': '75', 'Year': '1991', 'Album': 'Star Time', 'Artist': 'James Brown', 'Genre': 'Funk / Soul', 'Subgenre': 'Soul, Funk, Disco'}\n",
      "{'Number': '76', 'Year': '1984', 'Album': 'Purple Rain', 'Artist': 'Prince and the Revolution', 'Genre': 'Electronic, Rock, Funk / Soul, Stage & Screen', 'Subgenre': 'Pop Rock, Funk, Soundtrack, Synth-pop'}\n",
      "{'Number': '77', 'Year': '1980', 'Album': 'Back in Black', 'Artist': 'AC/DC', 'Genre': 'Rock', 'Subgenre': 'Hard Rock'}\n",
      "{'Number': '78', 'Year': '1965', 'Album': 'Otis Blue: Otis Redding Sings Soul', 'Artist': 'Otis Redding', 'Genre': 'Funk / Soul', 'Subgenre': 'Soul'}\n",
      "{'Number': '79', 'Year': '1969', 'Album': 'Led Zeppelin II', 'Artist': 'Led Zeppelin', 'Genre': 'Rock', 'Subgenre': 'Blues Rock, Classic Rock, Hard Rock'}\n",
      "{'Number': '80', 'Year': '1971', 'Album': 'Imagine', 'Artist': 'John Lennon', 'Genre': 'Rock', 'Subgenre': 'Pop Rock'}\n",
      "{'Number': '81', 'Year': '1977', 'Album': 'The Clash', 'Artist': 'The Clash', 'Genre': 'Rock', 'Subgenre': 'Punk'}\n",
      "{'Number': '82', 'Year': '1972', 'Album': 'Harvest', 'Artist': 'Neil Young', 'Genre': 'Rock', 'Subgenre': 'Folk Rock, Country Rock, Classic Rock'}\n",
      "{'Number': '83', 'Year': '1967', 'Album': 'Axis: Bold as Love', 'Artist': 'The Jimi Hendrix Experience', 'Genre': 'Rock', 'Subgenre': 'Psychedelic Rock, Electric Blues'}\n",
      "{'Number': '84', 'Year': '1967', 'Album': 'I Never Loved a Man the Way I Love You', 'Artist': 'Aretha Franklin', 'Genre': 'Funk / Soul', 'Subgenre': 'Soul'}\n",
      "{'Number': '85', 'Year': '1968', 'Album': 'Lady Soul', 'Artist': 'Aretha Franklin', 'Genre': 'Funk / Soul', 'Subgenre': 'Soul'}\n",
      "{'Number': '86', 'Year': '1984', 'Album': 'Born in the U.S.A.', 'Artist': 'Bruce Springsteen', 'Genre': 'Rock', 'Subgenre': 'Pop Rock'}\n",
      "{'Number': '87', 'Year': '1979', 'Album': 'The Wall', 'Artist': 'Pink Floyd', 'Genre': 'Rock', 'Subgenre': 'Alternative Rock, Prog Rock'}\n",
      "{'Number': '88', 'Year': '1968', 'Album': 'At Folsom Prison', 'Artist': 'Johnny Cash', 'Genre': 'Folk, World, & Country', 'Subgenre': 'Country'}\n",
      "{'Number': '89', 'Year': '1969', 'Album': 'Dusty in Memphis', 'Artist': 'Dusty Springfield', 'Genre': 'Rock, Funk / Soul', 'Subgenre': 'Pop Rock, Soul'}\n",
      "{'Number': '90', 'Year': '1972', 'Album': 'Talking Book', 'Artist': 'Stevie Wonder', 'Genre': 'Funk / Soul', 'Subgenre': 'Soul, Funk'}\n",
      "{'Number': '91', 'Year': '1973', 'Album': 'Goodbye Yellow Brick Road', 'Artist': 'Elton John', 'Genre': 'Rock', 'Subgenre': 'Pop Rock, Classic Rock'}\n",
      "{'Number': '92', 'Year': '1978', 'Album': '20 Golden Greats', 'Artist': 'Buddy Holly', 'Genre': 'Rock', 'Subgenre': 'Rock & Roll'}\n",
      "{'Number': '93', 'Year': '1987', 'Album': 'Sign \"Peace\" the Times', 'Artist': 'Prince', 'Genre': 'Rock, Reggae', 'Subgenre': 'Ska, Reggae-Pop'}\n",
      "{'Number': '94', 'Year': '1984', 'Album': '40 Greatest Hits', 'Artist': 'Hank Williams', 'Genre': 'Folk, World, & Country', 'Subgenre': 'Country'}\n",
      "{'Number': '95', 'Year': '1970', 'Album': 'Bitches Brew', 'Artist': 'Miles Davis', 'Genre': 'Jazz', 'Subgenre': 'Fusion'}\n",
      "{'Number': '96', 'Year': '1969', 'Album': 'Tommy', 'Artist': 'The Who', 'Genre': 'Rock', 'Subgenre': 'Psychedelic Rock'}\n",
      "{'Number': '97', 'Year': '1963', 'Album': \"The Freewheelin' Bob Dylan\", 'Artist': 'Bob Dylan', 'Genre': 'Folk, World, & Country', 'Subgenre': 'Folk'}\n",
      "{'Number': '98', 'Year': '1978', 'Album': \"This Year's Model\", 'Artist': 'Elvis Costello', 'Genre': 'Rock', 'Subgenre': 'New Wave'}\n",
      "{'Number': '99', 'Year': '1971', 'Album': \"There's a Riot Goin' On\", 'Artist': 'Sly & The Family Stone', 'Genre': 'Funk / Soul', 'Subgenre': 'Rhythm & Blues, Funk'}\n",
      "{'Number': '100', 'Year': '1968', 'Album': 'Odessey and Oracle', 'Artist': 'The Zombies', 'Genre': 'Rock', 'Subgenre': 'Psychedelic Rock'}\n",
      "{'Number': '101', 'Year': '1955', 'Album': 'In the Wee Small Hours', 'Artist': 'Frank Sinatra', 'Genre': 'Jazz, Pop', 'Subgenre': 'Big Band, Ballad'}\n"
     ]
    }
   ],
   "source": [
    "rows = 101\n",
    "\n",
    "for row in reader:\n",
    "    rows -= 1\n",
    "    if (rows > 0):\n",
    "        print(row)\n",
    "    else:\n",
    "        break"
   ]
  },
  {
   "cell_type": "code",
   "execution_count": 13,
   "id": "07ab997f-533b-4ecd-af51-fc75022996a6",
   "metadata": {},
   "outputs": [
    {
     "name": "stdout",
     "output_type": "stream",
     "text": [
      "Number albums: 398\n"
     ]
    }
   ],
   "source": [
    "albums = []\n",
    "for row in reader:\n",
    "    albums.append(row)\n",
    "\n",
    "print(\"Number albums:\", len(albums))\n"
   ]
  },
  {
   "cell_type": "code",
   "execution_count": 17,
   "id": "b5d3a439-7759-46a4-af78-6c2d0dd40738",
   "metadata": {},
   "outputs": [],
   "source": [
    "albums_sorted = sorted(albums, key = lambda x: x['Artist'])\n"
   ]
  },
  {
   "cell_type": "code",
   "execution_count": 20,
   "id": "d178668b-964b-4f8b-b103-8adacc7a88b7",
   "metadata": {},
   "outputs": [],
   "source": [
    "def is_valid_year(string):\n",
    "    try:\n",
    "        year = int(string)\n",
    "    except ValueError:\n",
    "        return False\n",
    "    else:\n",
    "        return year"
   ]
  },
  {
   "cell_type": "code",
   "execution_count": 22,
   "id": "8d7570d1-4b1b-4668-ae59-3d8125c59af2",
   "metadata": {},
   "outputs": [
    {
     "name": "stdout",
     "output_type": "stream",
     "text": [
      "[1959, 1970, 1962, 1977, 2003, 1971, 1966, 1970, 1995, 1966, 1974, 1967, 1967, 1965, 1970, 2005, 1960, 1968, 1969, 1972, 1986, 1967, 1971, 1973, 1967, 1973, 1980, 1977, 1970, 1977, 1973, 1994, 1992, 1974, 1985, 1992, 1974, 1978, 1965, 1963, 1968, 1988, 1977, 1967, 1970, 1973, 1969, 1978, 2004, 1979, 1991, 1958, 1980, 1989, 1980, 1975, 1975, 1971, 1968, 1997, 1982, 2002, 1973, 1982, 1986, 1977, 1977, 1970, 1968, 1971, 1972, 1976, 1970, 1976, 1978, 1992, 2001, 1965, 1974, 1975, 1975, 1990, 1969, 1973, 1986, 1967, 1969, 1969, 1970, 1969, 1994, 1972, 1966, 1998, 1983, 1967, 2001, 1979, 1994, 1966, 1987, 2006, 1968, 1980, 1970, 1970, 1991, 1969, 1975, 1994, 1981, 1991, 1973, 1986, 1961, 1986, 1986, 1970, 1991, 1972, 1983, 1999, 2004, 1982, 1989, 1987, 1975, 1989, 1975, 1972, 1965, 1968, 2000, 1992, 1965, 1962, 1989, 1972, 1984, 1984, 1970, 2000, 1993, 1966, 1969, 1959, 1992, 1996, 1977, 2001, 1980, 1966, 1991, 1977, 1985, 1968, 1997, 1978, 1970, 1969, 1988, 1970, 1959, 1968, 1973, 1972, 1985, 1978, 1965, 1997, 1966, 1974, 1999, 1975, 1989, 1997, 1973, 2000, 1994, 1964, 1974, 1978, 1972, 1972, 1980, 1968, 1967, 1973, 1977, 1975, 1968, 1969, 1970, 1985, 1968, 2003, 1994, 1971, 1971, 1990, 1967, 1994, 1998, 1996, 1964, 1956, 1969, 1991, 1994, 1988, 1994, 1998, 1979, 1969, 1988, 1972, 1973, 2001, 1972, 1972, 1981, 1976, 1977, 1989, 1993, 1988, 1986, 1975, 1965, 1982, 1981, 1979, 1994, 2007, 1971, 1968, 1974, 1981, 1999, 1990, 1977, 1973, 1984, 1989, 1967, 1960, 2003, 1966, 1979, 1985, 2010, 1978, 1965, 1970, 1967, 1960, 1972, 1979, 2000, 1993, 1987, 1971, 1992, 1994, 1998, 1972, 1987, 1973, 2006, 1979, 1969, 1975, 1974, 1995, 1991, 1995, 1994, 1973, 2011, 1976, 1978, 1966, 2001, 1974, 1993, 1985, 1989, 2003, 1976, 1970, 2007, 1974, 2007, 1973, 1991, 1983, 1985, 1995, 1999, 1994, 1973, 1972, 1974, 1993, 1980, 1989, 1967, 1997, 1974, 1977, 1984, 1981, 1978, 1999, 1980, 1973, 1994, 1957, 1990, 1963, 2001, 2002, 1974, 1978, 2002, 1978, 1975, 2007, 2000, 1973, 1970, 1972, 1993, 2002, 2008, 1979, 1985, 1985, 1977, 1978, 1977, 1972, 1976, 1970, 1964, 1983, 1978, 1973, 2006, 1971, 1987, 1971, 1984, 1978, 2005, 1970, 1968, 1994, 1979, 1987, 1981, 1987, 1999, 2002, 1987, 1965, 1996, 1985, 1974, 1987, 1984, 2001, 1979, 1997, 1996, 2002, 1971, 1995, 2000, 1986, 1979, 1972, 1994, 1975, 1983, 1985, 1976, 1973, 1967, 1983, 2002, 2007, 1972, 1969, 2001, 1989, 1971, 1998]\n"
     ]
    }
   ],
   "source": [
    "release_years = [int(row[\"Year\"]) for row in albums if (is_valid_year(row[\"Year\"]))]\n",
    "print(release_years)"
   ]
  },
  {
   "cell_type": "code",
   "execution_count": 27,
   "id": "be5a8675-3501-4753-a96b-2139199353be",
   "metadata": {},
   "outputs": [
    {
     "name": "stdout",
     "output_type": "stream",
     "text": [
      "The Smile Sessions The Beach Boys 2011\n"
     ]
    }
   ],
   "source": [
    "valid_albums = [row for row in albums if (is_valid_year(row[\"Year\"]))]\n",
    "album_max = max(valid_albums, key = lambda x: x [\"Year\"])\n",
    "print(album_max[\"Album\"], album_max[\"Artist\"], album_max[\"Year\"])"
   ]
  },
  {
   "cell_type": "code",
   "execution_count": 28,
   "id": "ad6792bb-34ad-49d1-a4f9-56b665192f58",
   "metadata": {},
   "outputs": [],
   "source": [
    "import pandas as pd"
   ]
  },
  {
   "cell_type": "code",
   "execution_count": 30,
   "id": "df40ac18-8423-4f1a-b6c0-f075d8618489",
   "metadata": {},
   "outputs": [
    {
     "name": "stderr",
     "output_type": "stream",
     "text": [
      "C:\\ProgramData\\anaconda3\\Lib\\site-packages\\openpyxl\\worksheet\\_read_only.py:85: UserWarning: Unknown extension is not supported and will be removed\n",
      "  for idx, row in parser.parse():\n"
     ]
    }
   ],
   "source": [
    "xls = pd.ExcelFile(\"C:/Users/Leydi/Documents/PSIG/Mod 2 Code & Data Files/yelp.xlsx\")\n",
    "df = xls.parse('yelp_data')"
   ]
  },
  {
   "cell_type": "code",
   "execution_count": 31,
   "id": "d453b57a-9b71-4b1a-af9d-ebe9b3a10387",
   "metadata": {},
   "outputs": [
    {
     "data": {
      "text/plain": [
       "pandas.core.frame.DataFrame"
      ]
     },
     "execution_count": 31,
     "metadata": {},
     "output_type": "execute_result"
    }
   ],
   "source": [
    "type(df)"
   ]
  },
  {
   "cell_type": "code",
   "execution_count": 32,
   "id": "599c7049-20b8-41c9-bd46-78d1ffca197d",
   "metadata": {},
   "outputs": [
    {
     "data": {
      "text/plain": [
       "600"
      ]
     },
     "execution_count": 32,
     "metadata": {},
     "output_type": "execute_result"
    }
   ],
   "source": [
    "len(df)"
   ]
  },
  {
   "cell_type": "code",
   "execution_count": 33,
   "id": "c26ee631-284e-4064-b483-3517d6448665",
   "metadata": {},
   "outputs": [
    {
     "data": {
      "text/plain": [
       "(600, 8)"
      ]
     },
     "execution_count": 33,
     "metadata": {},
     "output_type": "execute_result"
    }
   ],
   "source": [
    "df.shape"
   ]
  },
  {
   "cell_type": "code",
   "execution_count": 34,
   "id": "c2e77f03-90d5-4413-abff-8d2037ff6be7",
   "metadata": {},
   "outputs": [
    {
     "data": {
      "text/plain": [
       "name            600\n",
       "category_0      600\n",
       "category_1      600\n",
       "take_out        600\n",
       "review_count    600\n",
       "stars           600\n",
       "city_id         600\n",
       "state_id        600\n",
       "dtype: int64"
      ]
     },
     "execution_count": 34,
     "metadata": {},
     "output_type": "execute_result"
    }
   ],
   "source": [
    "df.count()"
   ]
  },
  {
   "cell_type": "code",
   "execution_count": 35,
   "id": "76d9d9e5-600d-4661-ae85-15f062ebbfc1",
   "metadata": {},
   "outputs": [
    {
     "data": {
      "text/plain": [
       "Index(['name', 'category_0', 'category_1', 'take_out', 'review_count', 'stars',\n",
       "       'city_id', 'state_id'],\n",
       "      dtype='object')"
      ]
     },
     "execution_count": 35,
     "metadata": {},
     "output_type": "execute_result"
    }
   ],
   "source": [
    "df.columns"
   ]
  },
  {
   "cell_type": "code",
   "execution_count": 38,
   "id": "b1c5ab08-2a1b-4c21-be15-adf720f9f665",
   "metadata": {},
   "outputs": [
    {
     "data": {
      "text/plain": [
       "name             object\n",
       "category_0       object\n",
       "category_1       object\n",
       "take_out           bool\n",
       "review_count      int64\n",
       "stars           float64\n",
       "city_id           int64\n",
       "state_id          int64\n",
       "dtype: object"
      ]
     },
     "execution_count": 38,
     "metadata": {},
     "output_type": "execute_result"
    }
   ],
   "source": [
    "df.dtypes"
   ]
  },
  {
   "cell_type": "code",
   "execution_count": 39,
   "id": "345c32cb-6529-4148-93a2-d3b016ffe712",
   "metadata": {},
   "outputs": [
    {
     "data": {
      "text/html": [
       "<div>\n",
       "<style scoped>\n",
       "    .dataframe tbody tr th:only-of-type {\n",
       "        vertical-align: middle;\n",
       "    }\n",
       "\n",
       "    .dataframe tbody tr th {\n",
       "        vertical-align: top;\n",
       "    }\n",
       "\n",
       "    .dataframe thead th {\n",
       "        text-align: right;\n",
       "    }\n",
       "</style>\n",
       "<table border=\"1\" class=\"dataframe\">\n",
       "  <thead>\n",
       "    <tr style=\"text-align: right;\">\n",
       "      <th></th>\n",
       "      <th>review_count</th>\n",
       "      <th>stars</th>\n",
       "      <th>city_id</th>\n",
       "      <th>state_id</th>\n",
       "    </tr>\n",
       "  </thead>\n",
       "  <tbody>\n",
       "    <tr>\n",
       "      <th>count</th>\n",
       "      <td>600.000000</td>\n",
       "      <td>600.000000</td>\n",
       "      <td>600.000000</td>\n",
       "      <td>600.000000</td>\n",
       "    </tr>\n",
       "    <tr>\n",
       "      <th>mean</th>\n",
       "      <td>33.771667</td>\n",
       "      <td>3.495000</td>\n",
       "      <td>9.193333</td>\n",
       "      <td>1.500000</td>\n",
       "    </tr>\n",
       "    <tr>\n",
       "      <th>std</th>\n",
       "      <td>86.901895</td>\n",
       "      <td>0.955596</td>\n",
       "      <td>2.997933</td>\n",
       "      <td>0.500417</td>\n",
       "    </tr>\n",
       "    <tr>\n",
       "      <th>min</th>\n",
       "      <td>3.000000</td>\n",
       "      <td>1.000000</td>\n",
       "      <td>1.000000</td>\n",
       "      <td>1.000000</td>\n",
       "    </tr>\n",
       "    <tr>\n",
       "      <th>25%</th>\n",
       "      <td>5.000000</td>\n",
       "      <td>3.000000</td>\n",
       "      <td>8.000000</td>\n",
       "      <td>1.000000</td>\n",
       "    </tr>\n",
       "    <tr>\n",
       "      <th>50%</th>\n",
       "      <td>10.000000</td>\n",
       "      <td>3.500000</td>\n",
       "      <td>10.500000</td>\n",
       "      <td>1.500000</td>\n",
       "    </tr>\n",
       "    <tr>\n",
       "      <th>75%</th>\n",
       "      <td>25.250000</td>\n",
       "      <td>4.000000</td>\n",
       "      <td>12.000000</td>\n",
       "      <td>2.000000</td>\n",
       "    </tr>\n",
       "    <tr>\n",
       "      <th>max</th>\n",
       "      <td>1305.000000</td>\n",
       "      <td>5.000000</td>\n",
       "      <td>13.000000</td>\n",
       "      <td>2.000000</td>\n",
       "    </tr>\n",
       "  </tbody>\n",
       "</table>\n",
       "</div>"
      ],
      "text/plain": [
       "       review_count       stars     city_id    state_id\n",
       "count    600.000000  600.000000  600.000000  600.000000\n",
       "mean      33.771667    3.495000    9.193333    1.500000\n",
       "std       86.901895    0.955596    2.997933    0.500417\n",
       "min        3.000000    1.000000    1.000000    1.000000\n",
       "25%        5.000000    3.000000    8.000000    1.000000\n",
       "50%       10.000000    3.500000   10.500000    1.500000\n",
       "75%       25.250000    4.000000   12.000000    2.000000\n",
       "max     1305.000000    5.000000   13.000000    2.000000"
      ]
     },
     "execution_count": 39,
     "metadata": {},
     "output_type": "execute_result"
    }
   ],
   "source": [
    "df.describe()"
   ]
  },
  {
   "cell_type": "code",
   "execution_count": 40,
   "id": "f20ce6f5-fe77-4add-89e1-78e6e08c144e",
   "metadata": {},
   "outputs": [
    {
     "data": {
      "text/html": [
       "<div>\n",
       "<style scoped>\n",
       "    .dataframe tbody tr th:only-of-type {\n",
       "        vertical-align: middle;\n",
       "    }\n",
       "\n",
       "    .dataframe tbody tr th {\n",
       "        vertical-align: top;\n",
       "    }\n",
       "\n",
       "    .dataframe thead th {\n",
       "        text-align: right;\n",
       "    }\n",
       "</style>\n",
       "<table border=\"1\" class=\"dataframe\">\n",
       "  <thead>\n",
       "    <tr style=\"text-align: right;\">\n",
       "      <th></th>\n",
       "      <th>name</th>\n",
       "      <th>category_0</th>\n",
       "      <th>category_1</th>\n",
       "      <th>take_out</th>\n",
       "      <th>review_count</th>\n",
       "      <th>stars</th>\n",
       "      <th>city_id</th>\n",
       "      <th>state_id</th>\n",
       "    </tr>\n",
       "  </thead>\n",
       "  <tbody>\n",
       "    <tr>\n",
       "      <th>0</th>\n",
       "      <td>China Sea Chinese Restaurant</td>\n",
       "      <td>Restaurants</td>\n",
       "      <td>Chinese</td>\n",
       "      <td>True</td>\n",
       "      <td>11</td>\n",
       "      <td>2.5</td>\n",
       "      <td>1</td>\n",
       "      <td>1</td>\n",
       "    </tr>\n",
       "    <tr>\n",
       "      <th>1</th>\n",
       "      <td>Discount Tire Center</td>\n",
       "      <td>Tires</td>\n",
       "      <td>Automotive</td>\n",
       "      <td>False</td>\n",
       "      <td>24</td>\n",
       "      <td>4.5</td>\n",
       "      <td>1</td>\n",
       "      <td>1</td>\n",
       "    </tr>\n",
       "    <tr>\n",
       "      <th>2</th>\n",
       "      <td>Frankfurters</td>\n",
       "      <td>Restaurants</td>\n",
       "      <td>Hot Dogs</td>\n",
       "      <td>True</td>\n",
       "      <td>3</td>\n",
       "      <td>4.5</td>\n",
       "      <td>1</td>\n",
       "      <td>1</td>\n",
       "    </tr>\n",
       "    <tr>\n",
       "      <th>3</th>\n",
       "      <td>Fred Dietz Floral</td>\n",
       "      <td>Shopping</td>\n",
       "      <td>Flowers &amp; Gifts</td>\n",
       "      <td>False</td>\n",
       "      <td>6</td>\n",
       "      <td>4.0</td>\n",
       "      <td>1</td>\n",
       "      <td>1</td>\n",
       "    </tr>\n",
       "    <tr>\n",
       "      <th>4</th>\n",
       "      <td>Kuhn's Market</td>\n",
       "      <td>Food</td>\n",
       "      <td>Grocery</td>\n",
       "      <td>False</td>\n",
       "      <td>8</td>\n",
       "      <td>3.5</td>\n",
       "      <td>1</td>\n",
       "      <td>1</td>\n",
       "    </tr>\n",
       "  </tbody>\n",
       "</table>\n",
       "</div>"
      ],
      "text/plain": [
       "                           name   category_0       category_1  take_out  \\\n",
       "0  China Sea Chinese Restaurant  Restaurants          Chinese      True   \n",
       "1          Discount Tire Center        Tires       Automotive     False   \n",
       "2                  Frankfurters  Restaurants         Hot Dogs      True   \n",
       "3             Fred Dietz Floral     Shopping  Flowers & Gifts     False   \n",
       "4                 Kuhn's Market         Food          Grocery     False   \n",
       "\n",
       "   review_count  stars  city_id  state_id  \n",
       "0            11    2.5        1         1  \n",
       "1            24    4.5        1         1  \n",
       "2             3    4.5        1         1  \n",
       "3             6    4.0        1         1  \n",
       "4             8    3.5        1         1  "
      ]
     },
     "execution_count": 40,
     "metadata": {},
     "output_type": "execute_result"
    }
   ],
   "source": [
    "df.head()"
   ]
  },
  {
   "cell_type": "code",
   "execution_count": 41,
   "id": "9e441731-b74f-455a-905c-ad161ccc4b57",
   "metadata": {},
   "outputs": [
    {
     "data": {
      "text/plain": [
       "0                           China Sea Chinese Restaurant\n",
       "1                                   Discount Tire Center\n",
       "2                                           Frankfurters\n",
       "3                                      Fred Dietz Floral\n",
       "4                                          Kuhn's Market\n",
       "                             ...                        \n",
       "595    Republic Services of Southern Nevada Recycling...\n",
       "596                                         SA Recycling\n",
       "597                                      Jack In the Box\n",
       "598                                 Custom Hearth & Door\n",
       "599                                     A Sunrise Towing\n",
       "Name: name, Length: 600, dtype: object"
      ]
     },
     "execution_count": 41,
     "metadata": {},
     "output_type": "execute_result"
    }
   ],
   "source": [
    "df[\"name\"]"
   ]
  },
  {
   "cell_type": "code",
   "execution_count": 42,
   "id": "974d3c12-92db-4167-b535-5063f74ddaf7",
   "metadata": {},
   "outputs": [
    {
     "data": {
      "text/html": [
       "<div>\n",
       "<style scoped>\n",
       "    .dataframe tbody tr th:only-of-type {\n",
       "        vertical-align: middle;\n",
       "    }\n",
       "\n",
       "    .dataframe tbody tr th {\n",
       "        vertical-align: top;\n",
       "    }\n",
       "\n",
       "    .dataframe thead th {\n",
       "        text-align: right;\n",
       "    }\n",
       "</style>\n",
       "<table border=\"1\" class=\"dataframe\">\n",
       "  <thead>\n",
       "    <tr style=\"text-align: right;\">\n",
       "      <th></th>\n",
       "      <th>name</th>\n",
       "      <th>city_id</th>\n",
       "      <th>state_id</th>\n",
       "    </tr>\n",
       "  </thead>\n",
       "  <tbody>\n",
       "    <tr>\n",
       "      <th>0</th>\n",
       "      <td>China Sea Chinese Restaurant</td>\n",
       "      <td>1</td>\n",
       "      <td>1</td>\n",
       "    </tr>\n",
       "    <tr>\n",
       "      <th>1</th>\n",
       "      <td>Discount Tire Center</td>\n",
       "      <td>1</td>\n",
       "      <td>1</td>\n",
       "    </tr>\n",
       "    <tr>\n",
       "      <th>2</th>\n",
       "      <td>Frankfurters</td>\n",
       "      <td>1</td>\n",
       "      <td>1</td>\n",
       "    </tr>\n",
       "    <tr>\n",
       "      <th>3</th>\n",
       "      <td>Fred Dietz Floral</td>\n",
       "      <td>1</td>\n",
       "      <td>1</td>\n",
       "    </tr>\n",
       "    <tr>\n",
       "      <th>4</th>\n",
       "      <td>Kuhn's Market</td>\n",
       "      <td>1</td>\n",
       "      <td>1</td>\n",
       "    </tr>\n",
       "    <tr>\n",
       "      <th>5</th>\n",
       "      <td>Lincoln Bakery</td>\n",
       "      <td>1</td>\n",
       "      <td>1</td>\n",
       "    </tr>\n",
       "    <tr>\n",
       "      <th>6</th>\n",
       "      <td>Luigi's Pizzeria</td>\n",
       "      <td>1</td>\n",
       "      <td>1</td>\n",
       "    </tr>\n",
       "    <tr>\n",
       "      <th>7</th>\n",
       "      <td>Mane Attractions Unlimited</td>\n",
       "      <td>1</td>\n",
       "      <td>1</td>\n",
       "    </tr>\n",
       "    <tr>\n",
       "      <th>8</th>\n",
       "      <td>R &amp; B's Pizza Place</td>\n",
       "      <td>1</td>\n",
       "      <td>1</td>\n",
       "    </tr>\n",
       "    <tr>\n",
       "      <th>9</th>\n",
       "      <td>Rusty Nail</td>\n",
       "      <td>1</td>\n",
       "      <td>1</td>\n",
       "    </tr>\n",
       "  </tbody>\n",
       "</table>\n",
       "</div>"
      ],
      "text/plain": [
       "                           name  city_id  state_id\n",
       "0  China Sea Chinese Restaurant        1         1\n",
       "1          Discount Tire Center        1         1\n",
       "2                  Frankfurters        1         1\n",
       "3             Fred Dietz Floral        1         1\n",
       "4                 Kuhn's Market        1         1\n",
       "5                Lincoln Bakery        1         1\n",
       "6              Luigi's Pizzeria        1         1\n",
       "7    Mane Attractions Unlimited        1         1\n",
       "8           R & B's Pizza Place        1         1\n",
       "9                    Rusty Nail        1         1"
      ]
     },
     "execution_count": 42,
     "metadata": {},
     "output_type": "execute_result"
    }
   ],
   "source": [
    "atts = [\"name\", \"city_id\", \"state_id\"]\n",
    "df[atts].head(10)"
   ]
  },
  {
   "cell_type": "code",
   "execution_count": null,
   "id": "960a53bc-b087-4988-87dd-02c2d05ddf7f",
   "metadata": {},
   "outputs": [],
   "source": []
  }
 ],
 "metadata": {
  "kernelspec": {
   "display_name": "Python 3 (ipykernel)",
   "language": "python",
   "name": "python3"
  },
  "language_info": {
   "codemirror_mode": {
    "name": "ipython",
    "version": 3
   },
   "file_extension": ".py",
   "mimetype": "text/x-python",
   "name": "python",
   "nbconvert_exporter": "python",
   "pygments_lexer": "ipython3",
   "version": "3.12.7"
  }
 },
 "nbformat": 4,
 "nbformat_minor": 5
}
