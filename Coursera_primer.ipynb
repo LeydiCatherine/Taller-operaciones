{
 "cells": [
  {
   "cell_type": "code",
   "execution_count": 1,
   "id": "e864ab25-1946-4304-b2a8-5563fefc9815",
   "metadata": {},
   "outputs": [
    {
     "name": "stdout",
     "output_type": "stream",
     "text": [
      "Hola a todos\n"
     ]
    }
   ],
   "source": [
    "print(\"Hola a todos\")"
   ]
  },
  {
   "cell_type": "code",
   "execution_count": 3,
   "id": "335bd138-b147-4bd1-828a-cf81a02cdc80",
   "metadata": {
    "jupyter": {
     "source_hidden": true
    }
   },
   "outputs": [
    {
     "name": "stdout",
     "output_type": "stream",
     "text": [
      "con la letra a insetas una celda hacia arriba\n"
     ]
    }
   ],
   "source": [
    "print(\"con la letra a insetas una celda hacia arriba\")"
   ]
  },
  {
   "cell_type": "code",
   "execution_count": 4,
   "id": "002f739a-70bf-48af-bfba-ca4ccd11a217",
   "metadata": {
    "collapsed": true,
    "jupyter": {
     "outputs_hidden": true
    },
    "scrolled": true
   },
   "outputs": [
    {
     "name": "stdout",
     "output_type": "stream",
     "text": [
      "con la lectra b insertar una celda hacia abajo\n"
     ]
    }
   ],
   "source": [
    "print(\"con la lectra b insertar una celda hacia abajo\")"
   ]
  },
  {
   "cell_type": "code",
   "execution_count": 7,
   "id": "70038559-f740-4b60-9ee4-4f49260357b0",
   "metadata": {},
   "outputs": [
    {
     "name": "stdout",
     "output_type": "stream",
     "text": [
      "1\n",
      "2\n",
      "3\n",
      "4\n",
      "5\n",
      "6\n"
     ]
    }
   ],
   "source": [
    "numbers = [1, 2, 3, 4, 5, 6]\n",
    "\n",
    "for number in numbers:\n",
    "    print(number)"
   ]
  },
  {
   "cell_type": "code",
   "execution_count": 8,
   "id": "1ed3de73-187a-40b0-89b1-2fed754df149",
   "metadata": {},
   "outputs": [
    {
     "name": "stdout",
     "output_type": "stream",
     "text": [
      "[2, 4, 6]\n"
     ]
    }
   ],
   "source": [
    "numbers = [1, 2, 3, 4, 5, 6]\n",
    "even_number = []\n",
    "for number in numbers:\n",
    "    if(number %2 == 0):\n",
    "        even_number.append(number)\n",
    "\n",
    "print(even_number)"
   ]
  },
  {
   "cell_type": "code",
   "execution_count": 12,
   "id": "00120c99-68c6-4c90-9352-597af6c26d3d",
   "metadata": {},
   "outputs": [
    {
     "name": "stdout",
     "output_type": "stream",
     "text": [
      "sol es no es un planeta\n",
      "tierra este si es un planeta\n",
      "marte este si es un planeta\n",
      "jupiter este si es un planeta\n",
      "jupiter is closest to the Sun\n"
     ]
    }
   ],
   "source": [
    "planets = [\"sol\", \"tierra\", \"marte\", \"jupiter\" ]\n",
    "for planet in planets:\n",
    "    if (planet == \"sol\"):\n",
    "        print(planet, \"es no es un planeta\")\n",
    "    else:\n",
    "        print(planet, \"este si es un planeta\")\n",
    "\n",
    "print(planet, \"is closest to the Sun\")"
   ]
  },
  {
   "cell_type": "code",
   "execution_count": 18,
   "id": "4d7bc611-a31d-4bb0-8810-419fe2d14c0c",
   "metadata": {},
   "outputs": [
    {
     "name": "stdout",
     "output_type": "stream",
     "text": [
      "<class 'csv.DictReader'>\n"
     ]
    }
   ],
   "source": [
    "import csv\n",
    "with open('iris.csv', 'r') as irisfiler:\n",
    "    reader =csv.DictReader(irisfiler)\n",
    "\n",
    "print(type((reader)))\n"
   ]
  }
 ],
 "metadata": {
  "kernelspec": {
   "display_name": "Python 3 (ipykernel)",
   "language": "python",
   "name": "python3"
  },
  "language_info": {
   "codemirror_mode": {
    "name": "ipython",
    "version": 3
   },
   "file_extension": ".py",
   "mimetype": "text/x-python",
   "name": "python",
   "nbconvert_exporter": "python",
   "pygments_lexer": "ipython3",
   "version": "3.12.7"
  }
 },
 "nbformat": 4,
 "nbformat_minor": 5
}
